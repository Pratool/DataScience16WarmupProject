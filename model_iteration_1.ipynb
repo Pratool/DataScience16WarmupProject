{
 "cells": [
  {
   "cell_type": "markdown",
   "metadata": {},
   "source": [
    "# Model Iteration 1\n",
    "Pratool Gadtaula"
   ]
  },
  {
   "cell_type": "markdown",
   "metadata": {},
   "source": [
    "Load the Titanic data file and get a quick look at what the data looks like"
   ]
  },
  {
   "cell_type": "code",
   "execution_count": 11,
   "metadata": {
    "collapsed": false
   },
   "outputs": [
    {
     "name": "stdout",
     "output_type": "stream",
     "text": [
      "   PassengerId  Survived  Pclass  \\\n",
      "0            1         0       3   \n",
      "1            2         1       1   \n",
      "2            3         1       3   \n",
      "3            4         1       1   \n",
      "4            5         0       3   \n",
      "\n",
      "                                                Name     Sex  Age  SibSp  \\\n",
      "0                            Braund, Mr. Owen Harris    male   22      1   \n",
      "1  Cumings, Mrs. John Bradley (Florence Briggs Th...  female   38      1   \n",
      "2                             Heikkinen, Miss. Laina  female   26      0   \n",
      "3       Futrelle, Mrs. Jacques Heath (Lily May Peel)  female   35      1   \n",
      "4                           Allen, Mr. William Henry    male   35      0   \n",
      "\n",
      "   Parch            Ticket     Fare Cabin Embarked  \n",
      "0      0         A/5 21171   7.2500   NaN        S  \n",
      "1      0          PC 17599  71.2833   C85        C  \n",
      "2      0  STON/O2. 3101282   7.9250   NaN        S  \n",
      "3      0            113803  53.1000  C123        S  \n",
      "4      0            373450   8.0500   NaN        S  \n",
      "       PassengerId    Survived      Pclass         Age       SibSp  \\\n",
      "count   891.000000  891.000000  891.000000  714.000000  891.000000   \n",
      "mean    446.000000    0.383838    2.308642   29.699118    0.523008   \n",
      "std     257.353842    0.486592    0.836071   14.526497    1.102743   \n",
      "min       1.000000    0.000000    1.000000    0.420000    0.000000   \n",
      "25%     223.500000    0.000000    2.000000   20.125000    0.000000   \n",
      "50%     446.000000    0.000000    3.000000   28.000000    0.000000   \n",
      "75%     668.500000    1.000000    3.000000   38.000000    1.000000   \n",
      "max     891.000000    1.000000    3.000000   80.000000    8.000000   \n",
      "\n",
      "            Parch        Fare  \n",
      "count  891.000000  891.000000  \n",
      "mean     0.381594   32.204208  \n",
      "std      0.806057   49.693429  \n",
      "min      0.000000    0.000000  \n",
      "25%      0.000000    7.910400  \n",
      "50%      0.000000   14.454200  \n",
      "75%      0.000000   31.000000  \n",
      "max      6.000000  512.329200  \n"
     ]
    }
   ],
   "source": [
    "%matplotlib inline\n",
    "\n",
    "import pandas\n",
    "\n",
    "tdf = pandas.read_csv(\"train.csv\")\n",
    "\n",
    "print tdf.head(5)\n",
    "print tdf.describe()"
   ]
  },
  {
   "cell_type": "markdown",
   "metadata": {},
   "source": [
    "The sex column does not have numerical values, but could be useful for the predictive algorithm. In order to assign numerical values, the number of unique sex identifiers must be determined."
   ]
  },
  {
   "cell_type": "code",
   "execution_count": 12,
   "metadata": {
    "collapsed": false
   },
   "outputs": [
    {
     "name": "stdout",
     "output_type": "stream",
     "text": [
      "['male' 'female']\n"
     ]
    }
   ],
   "source": [
    "print tdf[\"Sex\"].unique()"
   ]
  },
  {
   "cell_type": "markdown",
   "metadata": {},
   "source": [
    "The data needs to be cleaned: missing values are filled with some form of center, typically median. The sex parameter is switched from strings specifying male and female to 0 and 1 respectively."
   ]
  },
  {
   "cell_type": "code",
   "execution_count": 13,
   "metadata": {
    "collapsed": false
   },
   "outputs": [],
   "source": [
    "tdf.loc[tdf[\"Sex\"] == \"male\", \"Sex\"] = 0\n",
    "tdf.loc[tdf[\"Sex\"] == \"female\", \"Sex\"] = 1\n",
    "\n",
    "tdf[\"Age\"] = tdf[\"Age\"].fillna(tdf[\"Age\"].median())"
   ]
  },
  {
   "cell_type": "markdown",
   "metadata": {},
   "source": [
    "The embarked column may also yield useful information for the machine learning algorithm. So these values are also converted to a number of unique numerical values."
   ]
  },
  {
   "cell_type": "code",
   "execution_count": 14,
   "metadata": {
    "collapsed": false
   },
   "outputs": [
    {
     "name": "stdout",
     "output_type": "stream",
     "text": [
      "['S' 'C' 'Q' nan]\n"
     ]
    }
   ],
   "source": [
    "print tdf[\"Embarked\"].unique()"
   ]
  },
  {
   "cell_type": "markdown",
   "metadata": {},
   "source": [
    "The embarked column has \"nan\" values that need to be removed. The histogram is plotted to understand which measure of center would be best. In order to plot the histogram, the values are converted to numbers with S=0, C=1, Q=2, and nan=3."
   ]
  },
  {
   "cell_type": "code",
   "execution_count": 16,
   "metadata": {
    "collapsed": false
   },
   "outputs": [
    {
     "data": {
      "image/png": "[encoded data removed]",
      "text/plain": [
       "<matplotlib.figure.Figure at 0x7fef82940f50>"
      ]
     },
     "metadata": {},
     "output_type": "display_data"
    }
   ],
   "source": [
    "import seaborn as sns\n",
    "\n",
    "tdf.loc[tdf[\"Embarked\"] == \"S\", \"Embarked\"] = 0\n",
    "tdf.loc[tdf[\"Embarked\"] == \"C\", \"Embarked\"] = 1\n",
    "tdf.loc[tdf[\"Embarked\"] == \"Q\", \"Embarked\"] = 2\n",
    "tdf[\"Embarked\"] = tdf[\"Embarked\"].fillna(3)\n",
    "\n",
    "sns.distplot(tdf[\"Embarked\"], kde=False);"
   ]
  },
  {
   "cell_type": "markdown",
   "metadata": {},
   "source": [
    "From this graph, it looks like the mode and median are both 'S', so the nan values are filled with 0."
   ]
  },
  {
   "cell_type": "code",
   "execution_count": 17,
   "metadata": {
    "collapsed": true
   },
   "outputs": [],
   "source": [
    "tdf.loc[tdf[\"Embarked\"] == 3, \"Embarked\"] = 0"
   ]
  },
  {
   "cell_type": "markdown",
   "metadata": {},
   "source": [
    "Using the scikit-learn library to split up the data into cross-validation folds, the linear regression algorithm performs supervised learning based on the cleaned data."
   ]
  },
  {
   "cell_type": "code",
   "execution_count": 23,
   "metadata": {
    "collapsed": true
   },
   "outputs": [],
   "source": [
    "from sklearn.linear_model import LinearRegression\n",
    "from sklearn.cross_validation import KFold\n",
    "\n",
    "# the data columns that I'll use to predict the target\n",
    "predictors = [\"Pclass\", \"Sex\", \"Age\", \"SibSp\", \"Parch\", \"Fare\", \"Embarked\"]\n",
    "\n",
    "alg = LinearRegression()\n",
    "\n",
    "# generate cross validation folds\n",
    "kf = KFold(tdf.shape[0], n_folds=3, random_state=1)\n",
    "\n",
    "predictions = []\n",
    "for train, test in kf:\n",
    "    train_predictors = tdf[predictors].iloc[train,:]\n",
    "    train_target = tdf[\"Survived\"].iloc[train]\n",
    "    \n",
    "    # training the algorithm using the predictors and the target\n",
    "    alg.fit(train_predictors, train_target)\n",
    "    \n",
    "    test_predictions = alg.predict(tdf[predictors].iloc[test,:])\n",
    "    predictions.append(test_predictions)"
   ]
  },
  {
   "cell_type": "markdown",
   "metadata": {},
   "source": [
    "Now that the model has made predictions on test data, the error can be evaluated as the number of correct predictions of the survival of each person out of the total number of people."
   ]
  },
  {
   "cell_type": "code",
   "execution_count": 24,
   "metadata": {
    "collapsed": false
   },
   "outputs": [
    {
     "name": "stdout",
     "output_type": "stream",
     "text": [
      "0.783389450056\n"
     ]
    }
   ],
   "source": [
    "import numpy as np\n",
    "\n",
    "predictions = np.concatenate(predictions, axis=0)\n",
    "\n",
    "# map predictions to outcomes\n",
    "predictions[predictions > .5] = 1\n",
    "predictions[predictions <= .5] = 0\n",
    "\n",
    "accuracy = sum(predictions == tdf[\"Survived\"]) / float(len(predictions))\n",
    "\n",
    "print accuracy"
   ]
  },
  {
   "cell_type": "markdown",
   "metadata": {},
   "source": [
    "Instead of performing a linear regression, a different machine learning algorithm called logistic regression is applied. This algorithm is better suited to the outcome as it outputs values between 0 and 1, just like the survived column of the data set."
   ]
  },
  {
   "cell_type": "code",
   "execution_count": 29,
   "metadata": {
    "collapsed": false
   },
   "outputs": [
    {
     "name": "stdout",
     "output_type": "stream",
     "text": [
      "0.787878787879\n"
     ]
    }
   ],
   "source": [
    "from sklearn import cross_validation\n",
    "from sklearn.linear_model import LogisticRegression\n",
    "\n",
    "alg = LogisticRegression(random_state=1)\n",
    "\n",
    "# compute the accuracy score for all cross validation folds\n",
    "scores = cross_validation.cross_val_score(alg, tdf[predictors], tdf[\"Survived\"], cv=3)\n",
    "\n",
    "# take the mean of the scores\n",
    "print scores.mean()"
   ]
  },
  {
   "cell_type": "markdown",
   "metadata": {},
   "source": [
    "Now that I have a first-iteration model, I'll load and clean the test data to generate a submission file with the predictions and passenger IDs."
   ]
  },
  {
   "cell_type": "code",
   "execution_count": 32,
   "metadata": {
    "collapsed": true
   },
   "outputs": [],
   "source": [
    "tdf_test = pandas.read_csv(\"test.csv\")\n",
    "\n",
    "tdf_test[\"Age\"] = tdf_test[\"Age\"].fillna(tdf[\"Age\"].median())\n",
    "tdf_test[\"Embarked\"] = tdf_test[\"Embarked\"].fillna('S')\n",
    "tdf_test.loc[tdf_test[\"Embarked\"] == 'S', \"Embarked\"] = 0\n",
    "tdf_test.loc[tdf_test[\"Embarked\"] == 'C', \"Embarked\"] = 1\n",
    "tdf_test.loc[tdf_test[\"Embarked\"] == 'Q', \"Embarked\"] = 2\n",
    "tdf_test.loc[tdf_test[\"Sex\"] == \"male\", \"Sex\"] = 0\n",
    "tdf_test.loc[tdf_test[\"Sex\"] == \"female\", \"Sex\"] = 1\n",
    "tdf_test[\"Fare\"] = tdf_test[\"Fare\"].fillna(tdf_test[\"Fare\"].median())\n",
    "\n",
    "alg = LogisticRegression(random_state=1)\n",
    "\n",
    "# Train the algorithm using all the training data\n",
    "alg.fit(tdf[predictors], tdf[\"Survived\"])\n",
    "\n",
    "# Make predictions using the test set.\n",
    "predictions = alg.predict(tdf_test[predictors])\n",
    "\n",
    "# Create a new dataframe with only the columns Kaggle wants from the dataset.\n",
    "submission = pandas.DataFrame({\n",
    "        \"PassengerId\": tdf_test[\"PassengerId\"],\n",
    "        \"Survived\": predictions\n",
    "    })\n",
    "\n",
    "submission.to_csv(\"kaggle.csv\", index=False)"
   ]
  }
 ],
 "metadata": {
  "kernelspec": {
   "display_name": "Python 2",
   "language": "python2",
   "name": "python2"
  },
  "language_info": {
   "codemirror_mode": {
    "name": "ipython",
    "version": 2
   },
   "file_extension": ".py",
   "mimetype": "text/x-python",
   "name": "python",
   "nbconvert_exporter": "python",
   "pygments_lexer": "ipython2",
   "version": "2.7.11"
  }
 },
 "nbformat": 4,
 "nbformat_minor": 0
}
