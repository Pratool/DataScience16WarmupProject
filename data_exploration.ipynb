{
 "cells": [
  {
   "cell_type": "markdown",
   "metadata": {},
   "source": [
    "# Titanic Data Exploration"
   ]
  },
  {
   "cell_type": "markdown",
   "metadata": {},
   "source": [
    "Pratool Gadtaula"
   ]
  },
  {
   "cell_type": "code",
   "execution_count": 13,
   "metadata": {
    "collapsed": false
   },
   "outputs": [],
   "source": [
    "%matplotlib inline\n",
    "\n",
    "import pandas\n",
    "\n",
    "df = pandas.read_csv('train.csv')"
   ]
  },
  {
   "cell_type": "code",
   "execution_count": 14,
   "metadata": {
    "collapsed": false
   },
   "outputs": [
    {
     "name": "stdout",
     "output_type": "stream",
     "text": [
      "PassengerId\n",
      "Survived\n",
      "Pclass\n",
      "Name\n",
      "Sex\n",
      "Age\n",
      "SibSp\n",
      "Parch\n",
      "Ticket\n",
      "Fare\n",
      "Cabin\n",
      "Embarked\n"
     ]
    }
   ],
   "source": [
    "for el in df.columns:\n",
    "    print el"
   ]
  },
  {
   "cell_type": "code",
   "execution_count": 37,
   "metadata": {
    "collapsed": false
   },
   "outputs": [
    {
     "name": "stdout",
     "output_type": "stream",
     "text": [
      "Females had a survival rate of 0.742 and 0.189 of males survived\n"
     ]
    }
   ],
   "source": [
    "import thinkplot\n",
    "import thinkstats2\n",
    "\n",
    "male_survival = df['Survived'][ df['Sex'] == 'male'].mean()\n",
    "female_survival = df['Survived'][ df['Sex'] == 'female' ].mean()\n",
    "\n",
    "print 'Females had a survival rate of %.3f and %.3f of males survived' %(female_survival, male_survival)"
   ]
  },
  {
   "cell_type": "markdown",
   "metadata": {},
   "source": [
    "There is a pronounced difference between the male and female survival rate!"
   ]
  },
  {
   "cell_type": "code",
   "execution_count": 34,
   "metadata": {
    "collapsed": false
   },
   "outputs": [
    {
     "name": "stdout",
     "output_type": "stream",
     "text": [
      "Mean age: 29.7 years\n",
      "Standard deviation of age: 14.53 years\n",
      "Young age threshold: 15.2 years\n"
     ]
    }
   ],
   "source": [
    "print 'Mean age: %.1f years' %df['Age'].mean()\n",
    "print 'Standard deviation of age: %.2f years' %df['Age'].std()\n",
    "print 'Young age threshold: %.1f years' %(df['Age'].mean() - df['Age'].std())"
   ]
  },
  {
   "cell_type": "markdown",
   "metadata": {},
   "source": [
    "I'm going to attempt to figure out the rate of surivival for the young, where a young person is more than 1 standard deviation younger than the mean of the ages. From the Titanic's passengers, that would be an age of 15.2 years."
   ]
  },
  {
   "cell_type": "code",
   "execution_count": 36,
   "metadata": {
    "collapsed": false
   },
   "outputs": [
    {
     "name": "stdout",
     "output_type": "stream",
     "text": [
      "Youth survival: 0.59\n",
      "Others survival: 0.38\n"
     ]
    }
   ],
   "source": [
    "young = df['Age'].mean() - df['Age'].std()\n",
    "\n",
    "young_survival = df['Survived'][ df['Age'] < young ].mean()\n",
    "others_survival = df['Survived'][ df['Age'] >= young].mean()\n",
    "\n",
    "print 'Youth survival: %.2f' %young_survival\n",
    "print 'Others survival: %.2f' %others_survival"
   ]
  },
  {
   "cell_type": "markdown",
   "metadata": {},
   "source": [
    "As I expected, there is a large difference between the youth's survival rate and everyone else's survival rate. Although, this difference is not as large as that between males and females."
   ]
  }
 ],
 "metadata": {
  "kernelspec": {
   "display_name": "Python 2",
   "language": "python2",
   "name": "python2"
  },
  "language_info": {
   "codemirror_mode": {
    "name": "ipython",
    "version": 2
   },
   "file_extension": ".py",
   "mimetype": "text/x-python",
   "name": "python",
   "nbconvert_exporter": "python",
   "pygments_lexer": "ipython2",
   "version": "2.7.11"
  }
 },
 "nbformat": 4,
 "nbformat_minor": 0
}
